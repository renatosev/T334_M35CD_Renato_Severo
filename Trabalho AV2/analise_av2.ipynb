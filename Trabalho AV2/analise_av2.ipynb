{
  "cells": [
    {
      "cell_type": "markdown",
      "id": "be54c1f3",
      "metadata": {
        "id": "be54c1f3"
      },
      "source": [
        "\n",
        "# Análise de Desempenho e Regressão Linear (dataset_24)\n"
      ]
    },
    {
      "cell_type": "code",
      "execution_count": 1,
      "id": "1da9e88b",
      "metadata": {
        "id": "1da9e88b"
      },
      "outputs": [],
      "source": [
        "\n",
        "import pandas as pd\n",
        "import numpy as np\n",
        "import statsmodels.api as sm\n",
        "import statsmodels.stats.api as sms\n",
        "from statsmodels.stats.outliers_influence import variance_inflation_factor\n",
        "import matplotlib.pyplot as plt\n",
        "import seaborn as sns\n",
        "import matplotlib.ticker as mtick\n",
        "\n",
        "%matplotlib inline\n"
      ]
    },
    {
      "cell_type": "markdown",
      "id": "66c67a10",
      "metadata": {
        "id": "66c67a10"
      },
      "source": [
        "\n",
        "## Parte I – Análise Estatística\n",
        "\n",
        "Carregamento dos dados, tratamento de valores ausentes e análise descritiva inicial.\n"
      ]
    },
    {
      "cell_type": "code",
      "execution_count": null,
      "id": "c0f611fd",
      "metadata": {
        "colab": {
          "base_uri": "https://localhost:8080/"
        },
        "id": "c0f611fd",
        "outputId": "f6f6b13e-1a83-4508-f8a9-d18a64921aa4"
      },
      "outputs": [
        {
          "output_type": "stream",
          "name": "stdout",
          "text": [
            "Valores ausentes por coluna (Antes):\n",
            "cpu_cores               0\n",
            "ram_gb                  0\n",
            "latencia_ms            19\n",
            "armazenamento_tb       19\n",
            "sistema_operacional     0\n",
            "tipo_hd                19\n",
            "tipo_processador        1\n",
            "tempo_resposta          0\n",
            "dtype: int64\n",
            "Valores ausentes em latencia_ms imputados com a mediana (145.54)\n",
            "Valores ausentes em armazenamento_tb imputados com a mediana (0.512)\n",
            "Valores ausentes em tipo_hd com a moda (SSD)\n",
            "\n",
            "Valores ausentes em tipo_processador com a moda (Apple Silicon)\n",
            "\n",
            "\n",
            "Valores ausentes: \n",
            "cpu_cores              0\n",
            "ram_gb                 0\n",
            "latencia_ms            0\n",
            "armazenamento_tb       0\n",
            "sistema_operacional    0\n",
            "tipo_hd                0\n",
            "tipo_processador       0\n",
            "tempo_resposta         0\n",
            "dtype: int64\n",
            "\n",
            "Análise Descritiva - Variáveis Numéricas: \n",
            "        cpu_cores      ram_gb  latencia_ms  armazenamento_tb  tempo_resposta\n",
            "count  194.000000  194.000000   194.000000        194.000000      194.000000\n",
            "mean     8.335052   23.402062   148.577577          0.829938      117.712732\n",
            "std      4.084104   21.784940    85.002887          0.606466       79.365549\n",
            "min      2.000000    4.000000     4.930000          0.256000       35.160000\n",
            "25%      5.000000    5.000000    83.257500          0.256000       67.720000\n",
            "50%      9.000000   16.000000   145.540000          0.512000       92.980000\n",
            "75%     11.750000   32.000000   210.880000          1.000000      133.052500\n",
            "max     15.000000   64.000000   296.030000          2.000000      405.220000\n",
            "\n",
            "Análise Descritiva - Variáveis Categóricas: \n",
            "       sistema_operacional tipo_hd tipo_processador\n",
            "count                  194     194              194\n",
            "unique                   3       2                3\n",
            "top                  MacOS     SSD    Apple Silicon\n",
            "freq                    73     111               73\n",
            "\n",
            "Contagem de Valores - sistema_operacional:\n",
            "sistema_operacional\n",
            "MacOS      73\n",
            "Windows    70\n",
            "Linux      51\n",
            "Name: count, dtype: int64\n",
            "\n",
            "Contagem de Valores - tipo_hd:\n",
            "tipo_hd\n",
            "SSD    111\n",
            "HDD     83\n",
            "Name: count, dtype: int64\n",
            "\n",
            "Contagem de Valores - tipo_processador:\n",
            "tipo_processador\n",
            "Apple Silicon    73\n",
            "Intel            64\n",
            "AMD              57\n",
            "Name: count, dtype: int64\n",
            "Numéricas: ['cpu_cores', 'ram_gb', 'latencia_ms', 'armazenamento_tb', 'tempo_resposta']\n",
            "Categóricas: ['sistema_operacional', 'tipo_hd', 'tipo_processador']\n"
          ]
        },
        {
          "output_type": "stream",
          "name": "stderr",
          "text": [
            "<ipython-input-3-d4a2197ff9c6>:17: FutureWarning: A value is trying to be set on a copy of a DataFrame or Series through chained assignment using an inplace method.\n",
            "The behavior will change in pandas 3.0. This inplace method will never work because the intermediate object on which we are setting values always behaves as a copy.\n",
            "\n",
            "For example, when doing 'df[col].method(value, inplace=True)', try using 'df.method({col: value}, inplace=True)' or df[col] = df[col].method(value) instead, to perform the operation inplace on the original object.\n",
            "\n",
            "\n",
            "  df[col].fillna(median_val, inplace=True)\n",
            "<ipython-input-3-d4a2197ff9c6>:24: FutureWarning: A value is trying to be set on a copy of a DataFrame or Series through chained assignment using an inplace method.\n",
            "The behavior will change in pandas 3.0. This inplace method will never work because the intermediate object on which we are setting values always behaves as a copy.\n",
            "\n",
            "For example, when doing 'df[col].method(value, inplace=True)', try using 'df.method({col: value}, inplace=True)' or df[col] = df[col].method(value) instead, to perform the operation inplace on the original object.\n",
            "\n",
            "\n",
            "  df[col].fillna(mode_val, inplace=True)\n"
          ]
        }
      ],
      "source": [
        "\n",
        "df_original = pd.read_csv(\"dataset_24.csv\")\n",
        "df = df_original.copy()\n",
        "\n",
        "print(\"Valores ausentes por coluna (Antes):\")\n",
        "print(df.isnull().sum())\n",
        "\n",
        "for col in [\"latencia_ms\", \"armazenamento_tb\"]:\n",
        "    if df[col].isnull().any():\n",
        "        median_val = df[col].median()\n",
        "        df[col].fillna(median_val, inplace=True)\n",
        "        print(f\"Valores ausentes em {col} imputados com a mediana ({median_val})\")\n",
        "\n",
        "for col in [\"tipo_hd\", \"tipo_processador\"]:\n",
        "    if df[col].isnull().any():\n",
        "        mode_val = df[col].mode()[0]\n",
        "        df[col].fillna(mode_val, inplace=True)\n",
        "        print(f\"Valores ausentes em {col} com a moda ({mode_val})\\n\")\n",
        "\n",
        "print(\"\\nValores ausentes: \")\n",
        "print(df.isnull().sum())\n",
        "\n",
        "print(\"\\nAnálise Descritiva - Variáveis Numéricas: \")\n",
        "desc_num = df.describe()\n",
        "print(desc_num)\n",
        "print(\"\\nAnálise Descritiva - Variáveis Categóricas: \")\n",
        "desc_cat = df.describe(include=[\"object\", \"category\"])\n",
        "print(desc_cat)\n",
        "\n",
        "print(\"\\nContagem de Valores - sistema_operacional:\")\n",
        "print(df[\"sistema_operacional\"].value_counts())\n",
        "print(\"\\nContagem de Valores - tipo_hd:\")\n",
        "print(df[\"tipo_hd\"].value_counts())\n",
        "print(\"\\nContagem de Valores - tipo_processador:\")\n",
        "print(df[\"tipo_processador\"].value_counts())\n",
        "\n",
        "df.to_csv(\"dataset_24_limpo.csv\", index=False)\n",
        "\n",
        "num_cols = df.select_dtypes(include=np.number).columns.tolist()\n",
        "cat_cols = df.select_dtypes(include=[\"object\", \"category\"]).columns.tolist()\n",
        "print(\"Numéricas:\", num_cols)\n",
        "print(\"Categóricas:\", cat_cols)\n",
        "\n",
        "\n"
      ]
    },
    {
      "cell_type": "markdown",
      "id": "b05f1e74",
      "metadata": {
        "id": "b05f1e74"
      },
      "source": [
        "\n",
        "## Parte II – Modelo e Diagnóstico\n",
        "\n",
        "Ajuste do modelo de regressão linear múltipla e diagnósticos.\n"
      ]
    },
    {
      "cell_type": "markdown",
      "id": "f3a1fe0f",
      "metadata": {
        "id": "f3a1fe0f"
      },
      "source": [
        "\n",
        "### Modelo 1: Regressão Linear Múltipla (Todas as Variáveis)\n",
        "\n",
        "Tratamento de variáveis categóricas com One-Hot Encoding e ajuste do modelo OLS.\n"
      ]
    },
    {
      "cell_type": "code",
      "execution_count": null,
      "id": "ec423b4c",
      "metadata": {
        "colab": {
          "base_uri": "https://localhost:8080/"
        },
        "id": "ec423b4c",
        "outputId": "83ce8f2c-dffd-442a-f924-553881899478"
      },
      "outputs": [
        {
          "output_type": "stream",
          "name": "stdout",
          "text": [
            "--- Sumário Modelo 1 (Original) ---\n",
            "                            OLS Regression Results                            \n",
            "==============================================================================\n",
            "Dep. Variable:         tempo_resposta   R-squared:                       0.694\n",
            "Model:                            OLS   Adj. R-squared:                  0.681\n",
            "Method:                 Least Squares   F-statistic:                     52.44\n",
            "Date:                Mon, 05 May 2025   Prob (F-statistic):           1.29e-43\n",
            "Time:                        21:58:13   Log-Likelihood:                -1008.5\n",
            "No. Observations:                 194   AIC:                             2035.\n",
            "Df Residuals:                     185   BIC:                             2064.\n",
            "Df Model:                           8                                         \n",
            "Covariance Type:            nonrobust                                         \n",
            "==================================================================================================\n",
            "                                     coef    std err          t      P>|t|      [0.025      0.975]\n",
            "--------------------------------------------------------------------------------------------------\n",
            "const                            276.9071     12.443     22.253      0.000     252.358     301.456\n",
            "cpu_cores                        -14.0524      0.808    -17.385      0.000     -15.647     -12.458\n",
            "ram_gb                            -1.5459      0.151    -10.232      0.000      -1.844      -1.248\n",
            "latencia_ms                        0.0001      0.039      0.004      0.997      -0.076       0.076\n",
            "armazenamento_tb                  -3.2488      5.423     -0.599      0.550     -13.947       7.450\n",
            "sistema_operacional_MacOS         -3.1775      4.822     -0.659      0.511     -12.691       6.336\n",
            "sistema_operacional_Windows       -0.1981      8.292     -0.024      0.981     -16.557      16.161\n",
            "tipo_hd_SSD                        4.6192      6.589      0.701      0.484      -8.380      17.618\n",
            "tipo_processador_Apple Silicon    -3.1775      4.822     -0.659      0.511     -12.691       6.336\n",
            "tipo_processador_Intel           -10.2955      8.310     -1.239      0.217     -26.690       6.099\n",
            "==============================================================================\n",
            "Omnibus:                       84.737   Durbin-Watson:                   1.907\n",
            "Prob(Omnibus):                  0.000   Jarque-Bera (JB):              245.418\n",
            "Skew:                           1.899   Prob(JB):                     5.11e-54\n",
            "Kurtosis:                       6.991   Cond. No.                     4.20e+18\n",
            "==============================================================================\n",
            "\n",
            "Notes:\n",
            "[1] Standard Errors assume that the covariance matrix of the errors is correctly specified.\n",
            "[2] The smallest eigenvalue is 3.27e-31. This might indicate that there are\n",
            "strong multicollinearity problems or that the design matrix is singular.\n",
            "--- Categorias Base (Modelo 1) ---\n",
            "- sistema_operacional: Linux\n",
            "- tipo_hd: HDD\n",
            "- tipo_processador: AMD\n"
          ]
        }
      ],
      "source": [
        "\n",
        "df_limpo = pd.read_csv(\"dataset_24_limpo.csv\")\n",
        "cat_cols = [\"sistema_operacional\", \"tipo_hd\", \"tipo_processador\"]\n",
        "\n",
        "df_encoded1 = pd.get_dummies(df_limpo, columns=cat_cols, drop_first=True, dtype=int)\n",
        "\n",
        "y1 = df_encoded1[\"tempo_resposta\"]\n",
        "X1 = df_encoded1.drop(\"tempo_resposta\", axis=1)\n",
        "\n",
        "X1 = sm.add_constant(X1)\n",
        "\n",
        "modelo1 = sm.OLS(y1, X1)\n",
        "resultados1 = modelo1.fit()\n",
        "\n",
        "print(\"--- Sumário Modelo 1 (Original) ---\")\n",
        "print(resultados1.summary())\n",
        "\n",
        "print(\"--- Categorias Base (Modelo 1) ---\")\n",
        "for col in cat_cols:\n",
        "    original_categories = set(df_limpo[col].unique())\n",
        "    dummy_columns = {c.split(f'{col}_')[-1] for c in X1.columns if c.startswith(f'{col}_')}\n",
        "    base_categories = original_categories - dummy_columns\n",
        "    if len(base_categories) == 1:\n",
        "        print(f\"- {col}: {list(base_categories)[0]}\")\n",
        "    else:\n",
        "        print(f\"- {col}: Não foi possível determinar a categoria base automaticamente (categorias encontradas: {base_categories})\")\n",
        "\n",
        "\n",
        "\n"
      ]
    },
    {
      "cell_type": "markdown",
      "id": "65680840",
      "metadata": {
        "id": "65680840"
      },
      "source": [
        "\n",
        "### Diagnóstico de Multicolinearidade\n",
        "\n",
        "Cálculo do Fator de Inflação da Variância (VIF).\n"
      ]
    },
    {
      "cell_type": "code",
      "execution_count": null,
      "id": "8bc39910",
      "metadata": {
        "colab": {
          "base_uri": "https://localhost:8080/"
        },
        "id": "8bc39910",
        "outputId": "a1cc16e4-74e7-4363-b9e9-dcc60cb14477"
      },
      "outputs": [
        {
          "output_type": "stream",
          "name": "stdout",
          "text": [
            "--- Fator de Inflação da Variância (VIF) ---\n",
            "                          feature       VIF\n",
            "0                       cpu_cores  4.319992\n",
            "1                          ram_gb  2.117906\n",
            "2                     latencia_ms  3.489667\n",
            "3                armazenamento_tb  2.713309\n",
            "4       sistema_operacional_MacOS       inf\n",
            "5     sistema_operacional_Windows  2.078571\n",
            "6                     tipo_hd_SSD  2.285290\n",
            "7  tipo_processador_Apple Silicon       inf\n",
            "8          tipo_processador_Intel  2.016325\n",
            "--- Interpretação VIF ---\n",
            "Multicolinearidade PERFEITA detectada (VIF = inf) nas seguintes variáveis:\n",
            "                          feature  VIF\n",
            "4       sistema_operacional_MacOS  inf\n",
            "7  tipo_processador_Apple Silicon  inf\n",
            "Ação é necessária (remoção de variável).\n",
            "\n",
            "VIF Ordenados do Maior para o Menor:\n",
            "                          feature       VIF\n",
            "4       sistema_operacional_MacOS       inf\n",
            "7  tipo_processador_Apple Silicon       inf\n",
            "0                       cpu_cores  4.319992\n",
            "2                     latencia_ms  3.489667\n",
            "3                armazenamento_tb  2.713309\n",
            "6                     tipo_hd_SSD  2.285290\n",
            "1                          ram_gb  2.117906\n",
            "5     sistema_operacional_Windows  2.078571\n",
            "8          tipo_processador_Intel  2.016325\n"
          ]
        },
        {
          "output_type": "stream",
          "name": "stderr",
          "text": [
            "/usr/local/lib/python3.11/dist-packages/statsmodels/stats/outliers_influence.py:197: RuntimeWarning: divide by zero encountered in scalar divide\n",
            "  vif = 1. / (1. - r_squared_i)\n"
          ]
        }
      ],
      "source": [
        "\n",
        "X_vif = X1.drop(\"const\", axis=1)\n",
        "\n",
        "vif_data = pd.DataFrame()\n",
        "vif_data[\"feature\"] = X_vif.columns\n",
        "\n",
        "try:\n",
        "    vif_data[\"VIF\"] = [variance_inflation_factor(X_vif.values, i) for i in range(len(X_vif.columns))]\n",
        "except Exception as e:\n",
        "    print(f\"Erro ao calcular VIF: {e}\")\n",
        "    vifs = []\n",
        "    for i in range(len(X_vif.columns)):\n",
        "        try:\n",
        "            v = variance_inflation_factor(X_vif.values, i)\n",
        "        except Exception:\n",
        "            v = float('inf')\n",
        "        vifs.append(v)\n",
        "    vif_data[\"VIF\"] = vifs\n",
        "\n",
        "print(\"--- Fator de Inflação da Variância (VIF) ---\")\n",
        "print(vif_data)\n",
        "\n",
        "print(\"--- Interpretação VIF ---\")\n",
        "high_vif = vif_data[vif_data[\"VIF\"] > 10]\n",
        "inf_vif = vif_data[np.isinf(vif_data[\"VIF\"])]\n",
        "\n",
        "if not inf_vif.empty:\n",
        "    print(\"Multicolinearidade PERFEITA detectada (VIF = inf) nas seguintes variáveis:\")\n",
        "    print(inf_vif)\n",
        "    print(\"Ação é necessária (remoção de variável).\")\n",
        "elif not high_vif.empty:\n",
        "    print(\"Multicolinearidade potencialmente problemática detectada (VIF > 10) nas seguintes variáveis:\")\n",
        "    print(high_vif)\n",
        "    print(\"Ações podem ser necessárias, como remover variáveis.\")\n",
        "else:\n",
        "    moderate_vif = vif_data[(vif_data[\"VIF\"] > 5) & (vif_data[\"VIF\"] <= 10)]\n",
        "    if not moderate_vif.empty:\n",
        "        print(\"Multicolinearidade moderada detectada (5 < VIF <= 10) nas seguintes variáveis:\")\n",
        "        print(moderate_vif)\n",
        "    else:\n",
        "        print(\"Não foi detectada multicolinearidade significativa (VIF <= 5 para todas as variáveis).\")\n",
        "\n",
        "vif_sorted = vif_data.sort_values(by=\"VIF\", ascending=False)\n",
        "print(\"\\nVIF Ordenados do Maior para o Menor:\")\n",
        "print(vif_sorted)\n",
        "\n"
      ]
    },
    {
      "cell_type": "markdown",
      "id": "ff437002",
      "metadata": {
        "id": "ff437002"
      },
      "source": [
        "\n",
        "### Diagnóstico de Heterocedasticidade\n",
        "\n",
        "Análise gráfica (Resíduos vs. Valores Ajustados) e Teste de Breusch-Pagan.\n"
      ]
    },
    {
      "cell_type": "code",
      "execution_count": null,
      "id": "aa2d6888",
      "metadata": {
        "colab": {
          "base_uri": "https://localhost:8080/",
          "height": 704
        },
        "id": "aa2d6888",
        "outputId": "cce18c37-d2f9-4d55-9f19-05dad7d5aa48"
      },
      "outputs": [
        {
          "output_type": "display_data",
          "data": {
            "text/plain": [
              "<Figure size 1000x600 with 1 Axes>"
            ],
            "image/png": "[encoded data removed]"
          },
          "metadata": {}
        },
        {
          "output_type": "stream",
          "name": "stdout",
          "text": [
            "Gráfico salvo em residuals_vs_fitted_notebook.png\n",
            "--- Teste de Breusch-Pagan (Modelo 1) ---\n",
            "Estatística LM: 24.1319\n",
            "p-valor LM: 0.0041\n",
            "Estatística F: 3.2852\n",
            "p-valor F: 0.0016\n",
            "Interpretação: Com p-valor F (0.0016) < 0.05, rejeitamos H0.\n",
            "Há evidência estatística de HETEROCEDASTICIDADE.\n"
          ]
        }
      ],
      "source": [
        "residuos = resultados1.resid\n",
        "valores_ajustados = resultados1.fittedvalues\n",
        "\n",
        "plt.figure(figsize=(10, 6))\n",
        "sns.scatterplot(x=valores_ajustados, y=residuos)\n",
        "plt.axhline(0, color=\"red\", linestyle=\"--\", linewidth=1)\n",
        "plt.title(\"Gráfico de Resíduos vs. Valores Ajustados (Modelo 1)\")\n",
        "plt.xlabel(\"Valores Ajustados (Fitted Values)\")\n",
        "plt.ylabel(\"Resíduos (Residuals)\")\n",
        "plt.grid(True)\n",
        "plt.savefig(\"residuals_vs_fitted_notebook.png\")\n",
        "plt.show()\n",
        "print(\"Gráfico salvo em residuals_vs_fitted_notebook.png\")\n",
        "\n",
        "print(\"--- Teste de Breusch-Pagan (Modelo 1) ---\")\n",
        "teste_bp = sms.het_breuschpagan(residuos, resultados1.model.exog)\n",
        "nomes = [\"Estatística LM\", \"p-valor LM\", \"Estatística F\", \"p-valor F\"]\n",
        "resultados_bp = dict(zip(nomes, teste_bp))\n",
        "\n",
        "print(f\"Estatística LM: {resultados_bp['Estatística LM']:.4f}\")\n",
        "print(f\"p-valor LM: {resultados_bp['p-valor LM']:.4f}\")\n",
        "print(f\"Estatística F: {resultados_bp['Estatística F']:.4f}\")\n",
        "print(f\"p-valor F: {resultados_bp['p-valor F']:.4f}\")\n",
        "\n"
      ]
    },
    {
      "cell_type": "markdown",
      "id": "454f1d36",
      "metadata": {
        "id": "454f1d36"
      },
      "source": [
        "\n",
        "## Parte III – Análise Crítica\n",
        "\n",
        "Comparação de modelos e recomendações práticas.\n"
      ]
    },
    {
      "cell_type": "markdown",
      "id": "4ac34e2e",
      "metadata": {
        "id": "4ac34e2e"
      },
      "source": [
        "\n",
        "### Comparação de Modelos\n",
        "\n",
        "Criação do Modelo 2 (removendo variável com VIF infinito) e comparação com o Modelo 1.\n"
      ]
    },
    {
      "cell_type": "code",
      "execution_count": null,
      "id": "aaa682a5",
      "metadata": {
        "colab": {
          "base_uri": "https://localhost:8080/",
          "height": 1000
        },
        "id": "aaa682a5",
        "outputId": "d6303fae-ae4f-4007-da89-04c6b58e3b10"
      },
      "outputs": [
        {
          "output_type": "stream",
          "name": "stdout",
          "text": [
            "--- Sumário Modelo 2 (Excluindo tipo_processador_Apple Silicon) ---\n",
            "                            OLS Regression Results                            \n",
            "==============================================================================\n",
            "Dep. Variable:         tempo_resposta   R-squared:                       0.694\n",
            "Model:                            OLS   Adj. R-squared:                  0.681\n",
            "Method:                 Least Squares   F-statistic:                     52.44\n",
            "Date:                Mon, 05 May 2025   Prob (F-statistic):           1.29e-43\n",
            "Time:                        00:24:37   Log-Likelihood:                -1008.5\n",
            "No. Observations:                 194   AIC:                             2035.\n",
            "Df Residuals:                     185   BIC:                             2064.\n",
            "Df Model:                           8                                         \n",
            "Covariance Type:            nonrobust                                         \n",
            "===============================================================================================\n",
            "                                  coef    std err          t      P>|t|      [0.025      0.975]\n",
            "-----------------------------------------------------------------------------------------------\n",
            "const                         276.9071     12.443     22.253      0.000     252.358     301.456\n",
            "cpu_cores                     -14.0524      0.808    -17.385      0.000     -15.647     -12.458\n",
            "ram_gb                         -1.5459      0.151    -10.232      0.000      -1.844      -1.248\n",
            "latencia_ms                     0.0001      0.039      0.004      0.997      -0.076       0.076\n",
            "armazenamento_tb               -3.2488      5.423     -0.599      0.550     -13.947       7.450\n",
            "sistema_operacional_MacOS      -6.3549      9.644     -0.659      0.511     -25.381      12.671\n",
            "sistema_operacional_Windows    -0.1981      8.292     -0.024      0.981     -16.557      16.161\n",
            "tipo_hd_SSD                     4.6192      6.589      0.701      0.484      -8.380      17.618\n",
            "tipo_processador_Intel        -10.2955      8.310     -1.239      0.217     -26.690       6.099\n",
            "==============================================================================\n",
            "Omnibus:                       84.737   Durbin-Watson:                   1.907\n",
            "Prob(Omnibus):                  0.000   Jarque-Bera (JB):              245.418\n",
            "Skew:                           1.899   Prob(JB):                     5.11e-54\n",
            "Kurtosis:                       6.991   Cond. No.                         787.\n",
            "==============================================================================\n",
            "\n",
            "Notes:\n",
            "[1] Standard Errors assume that the covariance matrix of the errors is correctly specified.\n",
            "--- Comparação dos Modelos ---\n",
            "Modelo 1: R² Adj = 0.6807, F-stat = 52.44, p(F) = 1.29e-43, Cond. No. = 4.20e+18\n",
            "Modelo 2: R² Adj = 0.6807, F-stat = 52.44, p(F) = 1.29e-43, Cond. No. = 787.36\n",
            "--- Justificativa ---\n",
            "O Modelo 2 mantém um R² ajustado similar ao Modelo 1.\n",
            "Considerando que o Modelo 2 resolve o problema crítico de multicolinearidade (Cond. No. muito menor), ele é preferível.\n",
            "Além disso, a variável removida ('tipo_processador_Apple Silicon') não era significativa no Modelo 1 (p=0.511).\n",
            "O Modelo 2 é recomendado por ser mais robusto e parcimonioso.\n"
          ]
        },
        {
          "output_type": "display_data",
          "data": {
            "text/plain": [
              "<Figure size 640x480 with 1 Axes>"
            ],
            "image/png": "[encoded data removed]"
          },
          "metadata": {}
        }
      ],
      "source": [
        "df_encoded2 = pd.get_dummies(df_limpo, columns=cat_cols, drop_first=True, dtype=int)\n",
        "\n",
        "vars_to_drop_model2 = [\"tempo_resposta\", \"tipo_processador_Apple Silicon\"]\n",
        "X2 = df_encoded2.drop(columns=vars_to_drop_model2)\n",
        "y2 = df_encoded2[\"tempo_resposta\"]\n",
        "\n",
        "X2 = sm.add_constant(X2)\n",
        "modelo2 = sm.OLS(y2, X2)\n",
        "resultados2 = modelo2.fit()\n",
        "\n",
        "print(\"--- Sumário Modelo 2 (Excluindo tipo_processador_Apple Silicon) ---\")\n",
        "print(resultados2.summary())\n",
        "\n",
        "print(\"--- Comparação dos Modelos ---\")\n",
        "print(f\"Modelo 1: R² Adj = {resultados1.rsquared_adj:.4f}, F-stat = {resultados1.fvalue:.2f}, p(F) = {resultados1.f_pvalue:.2e}, Cond. No. = {np.linalg.cond(X1):.2e}\")\n",
        "print(f\"Modelo 2: R² Adj = {resultados2.rsquared_adj:.4f}, F-stat = {resultados2.fvalue:.2f}, p(F) = {resultados2.f_pvalue:.2e}, Cond. No. = {np.linalg.cond(X2):.2f}\")\n",
        "\n",
        "\n",
        "plt.bar([\"Modelo 1\", \"Modelo 2\"], [resultados1.rsquared_adj, resultados2.rsquared_adj], color=[\"skyblue\", \"lightgreen\"])\n",
        "plt.title(\"Comparação do R² Ajustado\")\n",
        "plt.ylabel(\"R² Ajustado\")\n",
        "plt.ylim(0, 1)\n",
        "plt.tight_layout()\n",
        "plt.show()\n",
        "\n"
      ]
    }
  ],
  "metadata": {
    "colab": {
      "provenance": []
    },
    "language_info": {
      "name": "python"
    },
    "kernelspec": {
      "name": "python3",
      "display_name": "Python 3"
    }
  },
  "nbformat": 4,
  "nbformat_minor": 5
}